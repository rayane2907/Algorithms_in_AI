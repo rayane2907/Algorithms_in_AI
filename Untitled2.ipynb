{
  "nbformat": 4,
  "nbformat_minor": 0,
  "metadata": {
    "colab": {
      "provenance": [],
      "authorship_tag": "ABX9TyPd+wNJws+1bCXheZPe24f6",
      "include_colab_link": true
    },
    "kernelspec": {
      "name": "python3",
      "display_name": "Python 3"
    },
    "language_info": {
      "name": "python"
    }
  },
  "cells": [
    {
      "cell_type": "markdown",
      "metadata": {
        "id": "view-in-github",
        "colab_type": "text"
      },
      "source": [
        "<a href=\"https://colab.research.google.com/github/rayane2907/Algorithms_in_AI/blob/main/Untitled2.ipynb\" target=\"_parent\"><img src=\"https://colab.research.google.com/assets/colab-badge.svg\" alt=\"Open In Colab\"/></a>"
      ]
    },
    {
      "cell_type": "code",
      "execution_count": null,
      "metadata": {
        "id": "2XKLiBtoNTbO"
      },
      "outputs": [],
      "source": [
        "# the goal is to find all the possible solutions of a sum n by using only {1,2}\n",
        "# where the order really matter\n",
        "\n",
        "# in fact we are analyzing our problem from the bottom to the top\n",
        "# I mean that we start from N down to 0 and try to find each time\n",
        "# how many solutions exist just by adding the last two previous solution\n",
        "# because we are going down to 0\n",
        "\n",
        "# A better solution using dynamic programming\n",
        "def climb_stairs (N):\n",
        "  bin1=1\n",
        "  bin2=2\n",
        "\n",
        "  if N<=2:\n",
        "    return N\n",
        "  for i in range(3,N):\n",
        "    temp=bin1\n",
        "    p=bin1+bin2\n",
        "    bin1=temp\n",
        "    bin2=p\n",
        "\n",
        "  return p\n",
        "\n",
        "\n",
        "\n",
        "\n"
      ]
    },
    {
      "cell_type": "code",
      "source": [
        "def max_row_vector(self, row):\n",
        "\t\tresult = []\n",
        "\t\t# Top of stack\n",
        "\t\ttop_val = 0\n",
        "\t\tmax_area = 0\n",
        "\t\t# row matrix\n",
        "\n",
        "\t\tarea = 0 # Initialize area with current top\n",
        "\n",
        "\t\t# Run through all elements of a given row matrix\n",
        "\t\ti = 0\n",
        "\t\twhile (i < len(row)):\n",
        "\t\t\tif (len(result) == 0) or (row[result[-1]] <= row[i]):\n",
        "\t\t\t\tresult.append(i)\n",
        "\t\t\t\ti += 1\n",
        "\t\t\telse:\n",
        "\t\t\t\ttop_val = row[result.pop()]\n",
        "\t\t\t\tarea = top_val * i\n",
        "\t\t\t\tif (len(result)):\n",
        "\t\t\t\t\tarea = top_val * (i - result[-1] - 1)\n",
        "\t\t\t\tmax_area = max(area, max_area)\n",
        "\n",
        "\t\t# Now pop the remaining elements from stack\n",
        "\t\t# and calculate area with every popped\n",
        "\t\t# element as the smallest element\n",
        "\t\twhile (len(result)):\n",
        "\t\t\ttop_val = row[result.pop()]\n",
        "\t\t\tarea = top_val * i\n",
        "\t\t\tif (len(result)):\n",
        "\t\t\t\tarea = top_val * (i - result[-1] - 1)\n",
        "\t\t\tmax_area = max(area, max_area)\n",
        "\t\treturn max_area\n",
        "# Calculating the area of the 1's\n",
        "def maxRectangle(self, A):\n",
        "\t\t# Calculate area for first row the inetialize it\n",
        "\t\tresult = self.max_row_vector(A[0])\n",
        "\t\t# iterate over row to find maximum rectangular\n",
        "\t\tfor i in range(1, len(A)):\n",
        "\t\t\tfor j in range(len(A[i])):\n",
        "\t\t\t\t# if A[i][j] is 1 then add A[i -1][j]\n",
        "\t\t\t\tif (A[i][j]):\n",
        "\t\t\t\t\tA[i][j] += A[i - 1][j]\n",
        "\t\t\t# row (as last row) of rectangle) is more\n",
        "\t\t\tresult = max(result, self.max_row_vector(A[i]))\n",
        "\t\treturn result"
      ],
      "metadata": {
        "id": "0KATHhDeqiC5"
      },
      "execution_count": null,
      "outputs": []
    },
    {
      "cell_type": "code",
      "source": [
        "# in this exercise we are checking each time if the sequence before the\n",
        "# charachter of pattern (p) is the same the one of sequence(s), and at the\n",
        "# same time we need to check what is after the charachter depending on the\n",
        "# charachter itself, since each one with its own function\n",
        "def see_pattern(i,p,s):\n",
        "  if i == len(p) :\n",
        "    return False\n",
        "  # Checking the lzngth of both of matrices and see if they have the same\n",
        "  # length, and see the last element of p if it has one of the charachters\n",
        "  if (len(p)==len(s)) and (p(-1)!=\".\" or p(-1)!=\"*\" ):\n",
        "    return False\n",
        "  elif p[i]=='*':\n",
        "    return True\n",
        "  elif p[i]=='.' and len(s)==i+1:\n",
        "    return True\n",
        "  elif i == len(s) :\n",
        "    return True\n",
        "  elif s[i]==p[i] :\n",
        "    return see_pattern(i+1,p,s)\n",
        "  else :\n",
        "    return False"
      ],
      "metadata": {
        "id": "Ldg0KRF32orp"
      },
      "execution_count": null,
      "outputs": []
    }
  ]
}