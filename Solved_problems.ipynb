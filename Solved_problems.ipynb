{
  "nbformat": 4,
  "nbformat_minor": 0,
  "metadata": {
    "colab": {
      "provenance": [],
      "authorship_tag": "ABX9TyMQsUwfe/AKEVZ5pjtqFrJt",
      "include_colab_link": true
    },
    "kernelspec": {
      "name": "python3",
      "display_name": "Python 3"
    },
    "language_info": {
      "name": "python"
    }
  },
  "cells": [
    {
      "cell_type": "markdown",
      "metadata": {
        "id": "view-in-github",
        "colab_type": "text"
      },
      "source": [
        "<a href=\"https://colab.research.google.com/github/rayane2907/Algorithms_in_AI/blob/main/Solved_problems.ipynb\" target=\"_parent\"><img src=\"https://colab.research.google.com/assets/colab-badge.svg\" alt=\"Open In Colab\"/></a>"
      ]
    },
    {
      "cell_type": "markdown",
      "source": [
        "## Example1:\n",
        "\tGiven a string, find the length of the longest substring without repeating characters.\n",
        "\n",
        "\tExamples:\n",
        "\n",
        "\tGiven \"abcabcbb\", the answer is \"abc\", which the length is 3.\n",
        "\n",
        "\tGiven \"bbbbb\", the answer is \"b\", with the length of 1.\n",
        "\n",
        "\tGiven \"pwwkew\", the answer is \"wke\", with the length of 3. Note that the answer must be a substring, \"pwke\" is a subsequence and not a substring.\n"
      ],
      "metadata": {
        "id": "OyPpwUoXL8Uh"
      }
    },
    {
      "cell_type": "code",
      "source": [
        "class Solution(object):\n",
        "    def lengthOfLongestSubstring(self, s):\n",
        "        \"\"\"\n",
        "        :type s: str\n",
        "        :rtype: int\n",
        "        \"\"\"\n",
        "        mapSet = {}\n",
        "        start, result = 0, 0\n",
        "\n",
        "        for end in range(len(s)):\n",
        "        \tif s[end] in mapSet:\n",
        "        \t\tstart = max(mapSet[s[end]], start)\n",
        "        \tresult = max(result, end-start+1)\n",
        "        \tmapSet[s[end]] = end+1\n",
        "\n",
        "        return result"
      ],
      "metadata": {
        "id": "-VE9byUbMLGu"
      },
      "execution_count": 7,
      "outputs": []
    },
    {
      "cell_type": "markdown",
      "source": [
        "## Example2:\n",
        "\tThe string \"PAYPALISHIRING\" is written in a zigzag pattern on a given number of rows like this: (you may want to display this pattern in a fixed font for better legibility)\n",
        "\n",
        "\tP   A   H   N\n",
        "\tA P L S I I G\n",
        "\tY   I   R\n",
        "\n",
        "\tAnd then read line by line: \"PAHNAPLSIIGYIR\"\n"
      ],
      "metadata": {
        "id": "F0Hj26mzNupu"
      }
    },
    {
      "cell_type": "code",
      "source": [
        "class Solution(object):\n",
        "    def convert(self, s, numRows):\n",
        "        \"\"\"\n",
        "        :type s: str\n",
        "        :type numRows: int\n",
        "        :rtype: str\n",
        "        \"\"\"\n",
        "\n",
        "        if numRows == 1:\n",
        "        \treturn s\n",
        "\n",
        "        result = [\"\" for _ in range(numRows)]\n",
        "        row, down = 0, 1\n",
        "        for char in s:\n",
        "        \tresult[row] += char\n",
        "\n",
        "        \tif row == numRows - 1:\n",
        "        \t\tdown = 0\n",
        "        \tif row == 0:\n",
        "        \t\tdown = 1\n",
        "\n",
        "        \tif down:\n",
        "        \t\trow += 1\n",
        "        \telse:\n",
        "        \t\trow -= 1\n",
        "        final_string = \"\"\n",
        "        for value in result:\n",
        "        \tfinal_string += value\n",
        "        return final_string\n",
        "\n",
        "print (Solution().convert(\"PAYPALISHIRING\",3))"
      ],
      "metadata": {
        "colab": {
          "base_uri": "https://localhost:8080/"
        },
        "id": "ZRIRU5gINvOK",
        "outputId": "4a680908-3632-488e-8c0f-47970096404b"
      },
      "execution_count": 9,
      "outputs": [
        {
          "output_type": "stream",
          "name": "stdout",
          "text": [
            "PAHNAPLSIIGYIR\n"
          ]
        }
      ]
    },
    {
      "cell_type": "markdown",
      "source": [
        "## Example3:\n",
        "\tGiven an array nums of n integers and an integer target, find three integers in nums such that the sum is closest to target. Return the sum of the three integers. You may assume that each input would have exactly one solution.\n",
        "\n",
        "\tExample:\n",
        "\n",
        "\tGiven array nums = [-1, 2, 1, -4], and target = 1.\n",
        "\n",
        "\tThe sum that is closest to the target is 2. (-1 + 2 + 1 = 2).\n",
        "\n"
      ],
      "metadata": {
        "id": "Z2Mh4i9mORBj"
      }
    },
    {
      "cell_type": "code",
      "source": [
        "class Solution(object):\n",
        "    def threeSumClosest(self, nums, target):\n",
        "        \"\"\"\n",
        "        :type nums: List[int]\n",
        "        :type target: int\n",
        "        :rtype: int\n",
        "        \"\"\"\n",
        "\n",
        "        nums.sort()\n",
        "        result, min_diff = 0, float('inf')\n",
        "\n",
        "        for index in range(len(nums)-1):\n",
        "        \tleft = index + 1\n",
        "        \tright = len(nums) - 1\n",
        "\n",
        "        \twhile left < right:\n",
        "        \t\tcurrSum = nums[index] + nums[left] + nums[right]\n",
        "        \t\tdiff = abs(target - currSum)\n",
        "\n",
        "        \t\tif diff == 0:\n",
        "        \t\t\treturn target\n",
        "        \t\tif diff < min_diff:\n",
        "        \t\t\tmin_diff = diff\n",
        "        \t\t\tresult = currSum\n",
        "\n",
        "        \t\tif currSum < target:\n",
        "        \t\t\tleft += 1\n",
        "        \t\telse:\n",
        "        \t\t\tright -= 1\n",
        "        return result\n",
        "\n",
        "\n",
        "# Space: O(1)\n",
        "# Time: O(N^2)"
      ],
      "metadata": {
        "id": "URf7BwkOORRm"
      },
      "execution_count": 10,
      "outputs": []
    },
    {
      "cell_type": "markdown",
      "source": [
        "## Example4:\n",
        "    Given a string containing only digits, restore it by returning all possible valid IP address combinations.\n",
        "\n",
        "    Example:\n",
        "\n",
        "    Input: \"25525511135\"\n",
        "    Output: [\"255.255.11.135\", \"255.255.111.35\"]\n"
      ],
      "metadata": {
        "id": "tfdYaPJOOdfM"
      }
    },
    {
      "cell_type": "code",
      "source": [
        "class Solution(object):\n",
        "    def restoreIpAddresses(self, s):\n",
        "        \"\"\"\n",
        "        :type s: str\n",
        "        :rtype: List[str]\n",
        "        \"\"\"\n",
        "        result = []\n",
        "\n",
        "        def dfs(s, temp, count):\n",
        "            if count == 4:\n",
        "                if not s:\n",
        "                    result.append(temp[:-1])\n",
        "                    return\n",
        "\n",
        "            for index in range(1, 4):\n",
        "                if index <= len(s):\n",
        "                    if index == 1:\n",
        "                        dfs(s[index:], temp + s[:index] + \".\", count+1)\n",
        "                    elif index ==2 and s[0] != '0':\n",
        "                        dfs(s[index:], temp + s[:index] + \".\", count+1)\n",
        "                    elif index == 3 and s[0] != '0' and int(s[:3]) <= 255:\n",
        "                        dfs(s[index:], temp + s[:index] + \".\", count+1)\n",
        "\n",
        "        dfs(s, \"\", 0)\n",
        "        return result"
      ],
      "metadata": {
        "id": "enPD6MDKOdty"
      },
      "execution_count": 11,
      "outputs": []
    },
    {
      "cell_type": "markdown",
      "source": [
        "## Example5:\n",
        "    Given a binary tree, return the bottom-up level order traversal of its nodes' values. (ie, from left to right, level by level from leaf to root).\n",
        "\n",
        "    For example:\n",
        "    Given binary tree [3,9,20,null,null,15,7],\n",
        "\n",
        "        3\n",
        "       / \\\n",
        "      9  20\n",
        "        /  \\\n",
        "       15   7\n",
        "\n",
        "    return its bottom-up level order traversal as:\n",
        "\n",
        "    [\n",
        "      [15,7],\n",
        "      [9,20],\n",
        "      [3]\n",
        "    ]\n",
        "    "
      ],
      "metadata": {
        "id": "e4A0Nh_MOuw6"
      }
    },
    {
      "cell_type": "code",
      "source": [
        "# Definition for a binary tree node.\n",
        "# class TreeNode(object):\n",
        "#     def __init__(self, x):\n",
        "#         self.val = x\n",
        "#         self.left = None\n",
        "#         self.right = None\n",
        "\n",
        "class Solution(object):\n",
        "    def levelOrderBottom(self, root):\n",
        "        \"\"\"\n",
        "        :type root: TreeNode\n",
        "        :rtype: List[List[int]]\n",
        "        \"\"\"\n",
        "\n",
        "        if not root:\n",
        "        \treturn []\n",
        "\n",
        "        queue = [(root, 0)]\n",
        "        levelMap = {}\n",
        "\n",
        "        while queue:\n",
        "        \tnode, level = queue.pop(0)\n",
        "        \tif node.left:\n",
        "        \t\tqueue.append((node.left, level+1))\n",
        "        \tif node.right:\n",
        "        \t\tqueue.append((node.right, level+1))\n",
        "\n",
        "        \tif level in levelMap:\n",
        "        \t\tlevelMap[level].append(node.val)\n",
        "        \telse:\n",
        "        \t\tlevelMap[level] = [node.val]\n",
        "\n",
        "        result = []\n",
        "        for key, value in levelMap.iteritems():\n",
        "        \tresult.append(value)\n",
        "        return result[::-1]"
      ],
      "metadata": {
        "id": "871Ro5UVOu_W"
      },
      "execution_count": 12,
      "outputs": []
    },
    {
      "cell_type": "markdown",
      "source": [
        "## Example6:\n",
        "\tGiven an integer array nums, find the contiguous subarray within an array (containing at least one number) which has the largest product.\n",
        "\n",
        "\tExample 1:\n",
        "\n",
        "\tInput: [2,3,-2,4]\n",
        "\tOutput: 6\n",
        "\tExplanation: [2,3] has the largest product 6.\n",
        "\n",
        "\tExample 2:\n",
        "\n",
        "\tInput: [-2,0,-1]\n",
        "\tOutput: 0\n",
        "\tExplanation: The result cannot be 2, because [-2,-1] is not a subarray."
      ],
      "metadata": {
        "id": "7TDTERBRPHZn"
      }
    },
    {
      "cell_type": "code",
      "source": [
        "class Solution(object):\n",
        "    def maxProduct(self, nums):\n",
        "        \"\"\"\n",
        "        :type nums: List[int]\n",
        "        :rtype: int\n",
        "        \"\"\"\n",
        "\n",
        "        if not nums:\n",
        "        \treturn 0\n",
        "\n",
        "        max_so_far, min_so_far, result = nums[0], nums[0], nums[0]\n",
        "\n",
        "        for index in range(1, len(nums)):\n",
        "        \tif nums[index] > 0:\n",
        "        \t\tmax_so_far = max(max_so_far*nums[index], nums[index])\n",
        "        \t\tmin_so_far = min(min_so_far*nums[index], nums[index])\n",
        "        \telse:\n",
        "        \t\ttemp = max_so_far\n",
        "        \t\tmax_so_far = max(min_so_far*nums[index], nums[index])\n",
        "        \t\tmin_so_far = min(temp*nums[index], nums[index])\n",
        "\n",
        "        \tresult = max(result, max_so_far)\n",
        "        return result"
      ],
      "metadata": {
        "id": "L8vz4cumPHnG"
      },
      "execution_count": 13,
      "outputs": []
    },
    {
      "cell_type": "markdown",
      "source": [
        "## Example7:\n",
        "Given an array A of 0s and 1s, consider N_i: the i-th subarray from A[0] to A[i] interpreted as a binary number (from most-significant-bit to least-significant-bit.)\n",
        "\n",
        "Return a list of booleans answer, where answer[i] is true if and only if N_i is divisible by 5.\n",
        "\n",
        "Example 1:\n",
        "\n",
        "Input: [0,1,1]\n",
        "Output: [true,false,false]\n",
        "Explanation:\n",
        "The input numbers in binary are 0, 01, 011; which are 0, 1, and 3 in base-10.  Only the first number is divisible by 5, so answer[0] is true.\n",
        "Example 2:\n",
        "\n",
        "Input: [1,1,1]\n",
        "Output: [false,false,false]\n",
        "\n",
        "Note:\n",
        "\n",
        "1 <= A.length <= 30000\n",
        "A[i] is 0 or 1\n"
      ],
      "metadata": {
        "id": "UpplCOEvPe0a"
      }
    },
    {
      "cell_type": "code",
      "source": [
        "class Solution(object):\n",
        "    def prefixesDivBy5(self, A):\n",
        "        \"\"\"\n",
        "        :type A: List[int]\n",
        "        :rtype: List[bool]\n",
        "        \"\"\"\n",
        "        result = []\n",
        "        if not A:\n",
        "            return []\n",
        "        str_bin = ''\n",
        "        for val in A:\n",
        "            str_bin += str(val)\n",
        "            if(int(str_bin, 2)%5 == 0):\n",
        "                result.append(True)\n",
        "            else:\n",
        "                result.append(False)\n",
        "        return result"
      ],
      "metadata": {
        "id": "n8XYWtnbPcUa"
      },
      "execution_count": 14,
      "outputs": []
    },
    {
      "cell_type": "markdown",
      "source": [
        "## Example8:\n",
        "Given an array of integers where 1 ≤ a[i] ≤ n (n = size of array), some elements appear twice and others appear once.\n",
        "\n",
        "Find all the elements of [1, n] inclusive that do not appear in this array.\n",
        "\n",
        "Could you do it without extra space and in O(n) runtime? You may assume the returned list does not count as extra space.\n",
        "\n",
        "Example:\n",
        "\n",
        "Input:\n",
        "[4,3,2,7,8,2,3,1]\n",
        "\n",
        "Output:\n",
        "[5,6]\n"
      ],
      "metadata": {
        "id": "b5kW86m9P0QL"
      }
    },
    {
      "cell_type": "code",
      "source": [
        "class Solution(object):\n",
        "    def findDisappearedNumbers(self, nums):\n",
        "        \"\"\"\n",
        "        :type nums: List[int]\n",
        "        :rtype: List[int]\n",
        "        \"\"\"\n",
        "        if not nums:\n",
        "            return []\n",
        "        result = []\n",
        "        for num in nums:\n",
        "            index = abs(num)-1\n",
        "            if nums[index] > 0:\n",
        "                nums[index]*=-1\n",
        "        for index, num in enumerate(nums):\n",
        "            if num >0:\n",
        "                result.append(index+1)\n",
        "        return result"
      ],
      "metadata": {
        "id": "IihZmlS0P0lh"
      },
      "execution_count": 15,
      "outputs": []
    }
  ]
}